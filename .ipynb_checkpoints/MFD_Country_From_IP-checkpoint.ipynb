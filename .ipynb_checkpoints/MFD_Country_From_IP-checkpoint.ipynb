{
 "cells": [
  {
   "cell_type": "code",
   "execution_count": 9,
   "metadata": {},
   "outputs": [],
   "source": [
    "import pandas as pd\n",
    "import numpy as np"
   ]
  },
  {
   "cell_type": "code",
   "execution_count": 10,
   "metadata": {},
   "outputs": [
    {
     "data": {
      "text/html": [
       "<div>\n",
       "<style scoped>\n",
       "    .dataframe tbody tr th:only-of-type {\n",
       "        vertical-align: middle;\n",
       "    }\n",
       "\n",
       "    .dataframe tbody tr th {\n",
       "        vertical-align: top;\n",
       "    }\n",
       "\n",
       "    .dataframe thead th {\n",
       "        text-align: right;\n",
       "    }\n",
       "</style>\n",
       "<table border=\"1\" class=\"dataframe\">\n",
       "  <thead>\n",
       "    <tr style=\"text-align: right;\">\n",
       "      <th></th>\n",
       "      <th>Ecommerce_Provider_ID</th>\n",
       "      <th>Merchant_ID</th>\n",
       "      <th>Merchant_Registration_Date</th>\n",
       "      <th>Registered_Device_ID</th>\n",
       "      <th>Gender</th>\n",
       "      <th>Age</th>\n",
       "      <th>IP_Address</th>\n",
       "    </tr>\n",
       "  </thead>\n",
       "  <tbody>\n",
       "    <tr>\n",
       "      <th>0</th>\n",
       "      <td>1746213</td>\n",
       "      <td>50448</td>\n",
       "      <td>2018-05-01 21:15:11</td>\n",
       "      <td>VATQMMZTVOZUT</td>\n",
       "      <td>F</td>\n",
       "      <td>39</td>\n",
       "      <td>48.151.136.76</td>\n",
       "    </tr>\n",
       "    <tr>\n",
       "      <th>1</th>\n",
       "      <td>1746213</td>\n",
       "      <td>338754</td>\n",
       "      <td>2018-04-14 10:13:00</td>\n",
       "      <td>LJCILLBRQZNKS</td>\n",
       "      <td>M</td>\n",
       "      <td>35</td>\n",
       "      <td>94.9.145.169</td>\n",
       "    </tr>\n",
       "    <tr>\n",
       "      <th>2</th>\n",
       "      <td>1746213</td>\n",
       "      <td>291127</td>\n",
       "      <td>2018-06-20 07:44:22</td>\n",
       "      <td>JFVHSUGKDAYZV</td>\n",
       "      <td>F</td>\n",
       "      <td>40</td>\n",
       "      <td>58.94.157.121</td>\n",
       "    </tr>\n",
       "    <tr>\n",
       "      <th>3</th>\n",
       "      <td>1746213</td>\n",
       "      <td>319919</td>\n",
       "      <td>2018-06-27 01:41:39</td>\n",
       "      <td>WFRXMPLQYXRMY</td>\n",
       "      <td>M</td>\n",
       "      <td>37</td>\n",
       "      <td>193.187.41.186</td>\n",
       "    </tr>\n",
       "    <tr>\n",
       "      <th>4</th>\n",
       "      <td>1746213</td>\n",
       "      <td>195911</td>\n",
       "      <td>2018-01-05 00:55:41</td>\n",
       "      <td>GGHKWMSWHCMID</td>\n",
       "      <td>F</td>\n",
       "      <td>27</td>\n",
       "      <td>125.96.20.172</td>\n",
       "    </tr>\n",
       "  </tbody>\n",
       "</table>\n",
       "</div>"
      ],
      "text/plain": [
       "   Ecommerce_Provider_ID  Merchant_ID Merchant_Registration_Date  \\\n",
       "0                1746213        50448        2018-05-01 21:15:11   \n",
       "1                1746213       338754        2018-04-14 10:13:00   \n",
       "2                1746213       291127        2018-06-20 07:44:22   \n",
       "3                1746213       319919        2018-06-27 01:41:39   \n",
       "4                1746213       195911        2018-01-05 00:55:41   \n",
       "\n",
       "  Registered_Device_ID Gender  Age      IP_Address  \n",
       "0        VATQMMZTVOZUT      F   39   48.151.136.76  \n",
       "1        LJCILLBRQZNKS      M   35    94.9.145.169  \n",
       "2        JFVHSUGKDAYZV      F   40   58.94.157.121  \n",
       "3        WFRXMPLQYXRMY      M   37  193.187.41.186  \n",
       "4        GGHKWMSWHCMID      F   27   125.96.20.172  "
      ]
     },
     "execution_count": 10,
     "metadata": {},
     "output_type": "execute_result"
    }
   ],
   "source": [
    "train_merchant_data = pd.read_csv('train_merchant_data-1561627820784.csv')\n",
    "train_merchant_data.head()"
   ]
  },
  {
   "cell_type": "code",
   "execution_count": 14,
   "metadata": {},
   "outputs": [
    {
     "name": "stdout",
     "output_type": "stream",
     "text": [
      "Time :  82.10690999031067\n"
     ]
    }
   ],
   "source": [
    "#!pip install maxminddb-geolite2\n",
    "import time\n",
    "from geolite2 import geolite2 \n",
    "\n",
    "geo = geolite2.reader()\n",
    "def get_country(ip):\n",
    "    try:\n",
    "        x = geo.get(ip)\n",
    "    except ValueError:\n",
    "        return pd.np.nan\n",
    "    try:\n",
    "        return x['country']['names']['en'] if x else pd.np.nan\n",
    "    except KeyError:\n",
    "        return pd.np.nan\n",
    "    \n",
    "s_time = time.time()\n",
    "\n",
    "train_merchant_data['country'] = train_merchant_data.loc[:,'IP_Address'].apply(get_country)\n",
    "geolite2.close()\n",
    "print('Time : ', time.time() - s_time)    "
   ]
  },
  {
   "cell_type": "code",
   "execution_count": null,
   "metadata": {},
   "outputs": [],
   "source": []
  },
  {
   "cell_type": "code",
   "execution_count": null,
   "metadata": {},
   "outputs": [],
   "source": []
  },
  {
   "cell_type": "code",
   "execution_count": null,
   "metadata": {},
   "outputs": [],
   "source": []
  },
  {
   "cell_type": "code",
   "execution_count": null,
   "metadata": {},
   "outputs": [],
   "source": []
  },
  {
   "cell_type": "code",
   "execution_count": null,
   "metadata": {},
   "outputs": [],
   "source": []
  },
  {
   "cell_type": "code",
   "execution_count": null,
   "metadata": {},
   "outputs": [],
   "source": []
  },
  {
   "cell_type": "code",
   "execution_count": null,
   "metadata": {},
   "outputs": [],
   "source": []
  },
  {
   "cell_type": "code",
   "execution_count": null,
   "metadata": {},
   "outputs": [],
   "source": []
  },
  {
   "cell_type": "code",
   "execution_count": null,
   "metadata": {},
   "outputs": [],
   "source": [
    "import ipinfo\n",
    "\n",
    "ip_address = train_merchant_data['IP_Address'].values\n",
    "details = handler.getDetails(ip_address)\n",
    "details.country_name"
   ]
  },
  {
   "cell_type": "code",
   "execution_count": 8,
   "metadata": {},
   "outputs": [
    {
     "ename": "FileNotFoundError",
     "evalue": "[Errno 2] No such file or directory: '/absolute_path/GeoIP.dat'",
     "output_type": "error",
     "traceback": [
      "\u001b[1;31m---------------------------------------------------------------------------\u001b[0m",
      "\u001b[1;31mFileNotFoundError\u001b[0m                         Traceback (most recent call last)",
      "\u001b[1;32m<ipython-input-8-7a61f3e69560>\u001b[0m in \u001b[0;36m<module>\u001b[1;34m\u001b[0m\n\u001b[0;32m      1\u001b[0m \u001b[1;32mimport\u001b[0m \u001b[0mpygeoip\u001b[0m\u001b[1;33m\u001b[0m\u001b[1;33m\u001b[0m\u001b[0m\n\u001b[0;32m      2\u001b[0m \u001b[1;33m\u001b[0m\u001b[0m\n\u001b[1;32m----> 3\u001b[1;33m \u001b[0mGEOIP\u001b[0m \u001b[1;33m=\u001b[0m \u001b[0mpygeoip\u001b[0m\u001b[1;33m.\u001b[0m\u001b[0mGeoIP\u001b[0m\u001b[1;33m(\u001b[0m\u001b[1;34m\"/absolute_path/GeoIP.dat\"\u001b[0m\u001b[1;33m,\u001b[0m \u001b[0mpygeoip\u001b[0m\u001b[1;33m.\u001b[0m\u001b[0mMEMORY_CACHE\u001b[0m\u001b[1;33m)\u001b[0m\u001b[1;33m\u001b[0m\u001b[1;33m\u001b[0m\u001b[0m\n\u001b[0m\u001b[0;32m      4\u001b[0m \u001b[0mGEOIP\u001b[0m\u001b[1;33m.\u001b[0m\u001b[0mcountry_name_by_addr\u001b[0m\u001b[1;33m(\u001b[0m\u001b[0mip\u001b[0m\u001b[1;33m)\u001b[0m\u001b[1;33m\u001b[0m\u001b[1;33m\u001b[0m\u001b[0m\n",
      "\u001b[1;32m~\\Anaconda3\\lib\\site-packages\\pygeoip\\__init__.py\u001b[0m in \u001b[0;36m__init__\u001b[1;34m(self, filename, flags, cache)\u001b[0m\n\u001b[0;32m    110\u001b[0m             \u001b[0mf\u001b[0m\u001b[1;33m.\u001b[0m\u001b[0mclose\u001b[0m\u001b[1;33m(\u001b[0m\u001b[1;33m)\u001b[0m\u001b[1;33m\u001b[0m\u001b[1;33m\u001b[0m\u001b[0m\n\u001b[0;32m    111\u001b[0m         \u001b[1;32melif\u001b[0m \u001b[0mself\u001b[0m\u001b[1;33m.\u001b[0m\u001b[0m_flags\u001b[0m \u001b[1;33m&\u001b[0m \u001b[0mconst\u001b[0m\u001b[1;33m.\u001b[0m\u001b[0mMEMORY_CACHE\u001b[0m\u001b[1;33m:\u001b[0m\u001b[1;33m\u001b[0m\u001b[1;33m\u001b[0m\u001b[0m\n\u001b[1;32m--> 112\u001b[1;33m             \u001b[0mf\u001b[0m \u001b[1;33m=\u001b[0m \u001b[0mcodecs\u001b[0m\u001b[1;33m.\u001b[0m\u001b[0mopen\u001b[0m\u001b[1;33m(\u001b[0m\u001b[0mfilename\u001b[0m\u001b[1;33m,\u001b[0m \u001b[1;34m'rb'\u001b[0m\u001b[1;33m,\u001b[0m \u001b[0mENCODING\u001b[0m\u001b[1;33m)\u001b[0m\u001b[1;33m\u001b[0m\u001b[1;33m\u001b[0m\u001b[0m\n\u001b[0m\u001b[0;32m    113\u001b[0m             \u001b[0mself\u001b[0m\u001b[1;33m.\u001b[0m\u001b[0m_memory\u001b[0m \u001b[1;33m=\u001b[0m \u001b[0mf\u001b[0m\u001b[1;33m.\u001b[0m\u001b[0mread\u001b[0m\u001b[1;33m(\u001b[0m\u001b[1;33m)\u001b[0m\u001b[1;33m\u001b[0m\u001b[1;33m\u001b[0m\u001b[0m\n\u001b[0;32m    114\u001b[0m             \u001b[0mself\u001b[0m\u001b[1;33m.\u001b[0m\u001b[0m_fp\u001b[0m \u001b[1;33m=\u001b[0m \u001b[0mutil\u001b[0m\u001b[1;33m.\u001b[0m\u001b[0mstr2fp\u001b[0m\u001b[1;33m(\u001b[0m\u001b[0mself\u001b[0m\u001b[1;33m.\u001b[0m\u001b[0m_memory\u001b[0m\u001b[1;33m)\u001b[0m\u001b[1;33m\u001b[0m\u001b[1;33m\u001b[0m\u001b[0m\n",
      "\u001b[1;32m~\\Anaconda3\\lib\\codecs.py\u001b[0m in \u001b[0;36mopen\u001b[1;34m(filename, mode, encoding, errors, buffering)\u001b[0m\n\u001b[0;32m    896\u001b[0m         \u001b[1;31m# Force opening of the file in binary mode\u001b[0m\u001b[1;33m\u001b[0m\u001b[1;33m\u001b[0m\u001b[1;33m\u001b[0m\u001b[0m\n\u001b[0;32m    897\u001b[0m         \u001b[0mmode\u001b[0m \u001b[1;33m=\u001b[0m \u001b[0mmode\u001b[0m \u001b[1;33m+\u001b[0m \u001b[1;34m'b'\u001b[0m\u001b[1;33m\u001b[0m\u001b[1;33m\u001b[0m\u001b[0m\n\u001b[1;32m--> 898\u001b[1;33m     \u001b[0mfile\u001b[0m \u001b[1;33m=\u001b[0m \u001b[0mbuiltins\u001b[0m\u001b[1;33m.\u001b[0m\u001b[0mopen\u001b[0m\u001b[1;33m(\u001b[0m\u001b[0mfilename\u001b[0m\u001b[1;33m,\u001b[0m \u001b[0mmode\u001b[0m\u001b[1;33m,\u001b[0m \u001b[0mbuffering\u001b[0m\u001b[1;33m)\u001b[0m\u001b[1;33m\u001b[0m\u001b[1;33m\u001b[0m\u001b[0m\n\u001b[0m\u001b[0;32m    899\u001b[0m     \u001b[1;32mif\u001b[0m \u001b[0mencoding\u001b[0m \u001b[1;32mis\u001b[0m \u001b[1;32mNone\u001b[0m\u001b[1;33m:\u001b[0m\u001b[1;33m\u001b[0m\u001b[1;33m\u001b[0m\u001b[0m\n\u001b[0;32m    900\u001b[0m         \u001b[1;32mreturn\u001b[0m \u001b[0mfile\u001b[0m\u001b[1;33m\u001b[0m\u001b[1;33m\u001b[0m\u001b[0m\n",
      "\u001b[1;31mFileNotFoundError\u001b[0m: [Errno 2] No such file or directory: '/absolute_path/GeoIP.dat'"
     ]
    }
   ],
   "source": [
    "import pygeoip\n",
    "\n",
    "GEOIP = pygeoip.GeoIP(\"/absolute_path/GeoIP.dat\", pygeoip.MEMORY_CACHE)\n",
    "GEOIP.country_name_by_addr(ip)"
   ]
  },
  {
   "cell_type": "code",
   "execution_count": null,
   "metadata": {},
   "outputs": [],
   "source": [
    "from geoip import geolite2\n",
    "\n",
    "for s in range(len(train_merchant_data.IP_Address)):\n",
    "               \n",
    "    Pred_cntry = geolite2.lookup(s)\n",
    "    Pred_cntry.country"
   ]
  }
 ],
 "metadata": {
  "kernelspec": {
   "display_name": "Python 3",
   "language": "python",
   "name": "python3"
  },
  "language_info": {
   "codemirror_mode": {
    "name": "ipython",
    "version": 3
   },
   "file_extension": ".py",
   "mimetype": "text/x-python",
   "name": "python",
   "nbconvert_exporter": "python",
   "pygments_lexer": "ipython3",
   "version": "3.7.3"
  }
 },
 "nbformat": 4,
 "nbformat_minor": 2
}
